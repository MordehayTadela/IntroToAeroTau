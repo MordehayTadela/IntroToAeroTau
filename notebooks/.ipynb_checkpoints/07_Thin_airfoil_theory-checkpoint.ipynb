{
 "cells": [
  {
   "cell_type": "code",
   "execution_count": 1,
   "metadata": {},
   "outputs": [],
   "source": [
    "import numpy as np\n",
    "import matplotlib.pyplot as plt\n"
   ]
  },
  {
   "cell_type": "code",
   "execution_count": 4,
   "metadata": {},
   "outputs": [
    {
     "data": {
      "text/plain": [
       "[<matplotlib.lines.Line2D at 0x79f14b876920>]"
      ]
     },
     "execution_count": 4,
     "metadata": {},
     "output_type": "execute_result"
    },
    {
     "data": {
      "image/png": "[encoded data removed]",
      "text/plain": [
       "<Figure size 300x300 with 1 Axes>"
      ]
     },
     "metadata": {},
     "output_type": "display_data"
    }
   ],
   "source": [
    "c=1\n",
    "x=np.linspace(0,1,10)\n",
    "theta=np.arccos(1-2/c*x)\n",
    "plt.figure(figsize=(3,3))\n",
    "plt.plot(x,0*x,marker='.',ls='')"
   ]
  },
  {
   "cell_type": "code",
   "execution_count": 5,
   "metadata": {},
   "outputs": [],
   "source": [
    "def An(beta,n):\n",
    "    return 2*beta/np.pi/n*np.sin(n*np.pi)"
   ]
  },
  {
   "cell_type": "code",
   "execution_count": 13,
   "metadata": {},
   "outputs": [
    {
     "name": "stdout",
     "output_type": "stream",
     "text": [
      "[ 4.08215600e-18 -4.08215600e-18  4.08215600e-18 -4.08215600e-18\n",
      "  4.08215600e-18 -4.08215600e-18  4.08215600e-18 -4.08215600e-18\n",
      "  4.08215600e-18 -4.08215600e-18  1.48479550e-17 -4.08215600e-18\n",
      " -5.02736626e-18 -4.08215600e-18  1.19770753e-17 -4.08215600e-18\n",
      " -2.88394926e-18 -4.08215600e-18  1.03149870e-17 -4.08215600e-18\n",
      " -1.55707206e-18 -1.48479550e-17  9.23101640e-18 -4.08215600e-18\n",
      " -6.54795575e-19  5.02736626e-18  8.46822227e-18 -4.08215600e-18\n",
      " -1.42294399e-21 -1.19770753e-17  7.90227823e-18 -4.08215600e-18\n",
      "  4.93556322e-19  2.88394926e-18  7.46569283e-18 -4.08215600e-18\n",
      "  8.81513043e-19 -1.03149870e-17  7.11866341e-18 -4.08215600e-18\n",
      "  1.27473113e-17  1.55707206e-18  6.83619761e-18 -1.48479550e-17\n",
      "  1.45051624e-18 -9.23101640e-18 -3.47680928e-18 -4.08215600e-18\n",
      "  1.13325921e-17]\n"
     ]
    }
   ],
   "source": [
    "beta=3/180*np.pi\n",
    "alpha=np.deg2rad(5)\n",
    "n=np.arange(1,50)\n",
    "A=An(beta,n)\n",
    "print(A)"
   ]
  },
  {
   "cell_type": "code",
   "execution_count": null,
   "metadata": {},
   "outputs": [],
   "source": [
    "A0=alpha+1/np.pi*beta*0.8*np.pi"
   ]
  }
 ],
 "metadata": {
  "kernelspec": {
   "display_name": "Python 3",
   "language": "python",
   "name": "python3"
  },
  "language_info": {
   "codemirror_mode": {
    "name": "ipython",
    "version": 3
   },
   "file_extension": ".py",
   "mimetype": "text/x-python",
   "name": "python",
   "nbconvert_exporter": "python",
   "pygments_lexer": "ipython3",
   "version": "3.10.13"
  }
 },
 "nbformat": 4,
 "nbformat_minor": 2
}
