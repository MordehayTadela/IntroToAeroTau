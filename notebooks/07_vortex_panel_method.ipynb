{
 "cells": [
  {
   "cell_type": "markdown",
   "id": "pregnant-possession",
   "metadata": {},
   "source": [
    "# Vortex panel method\n",
    "Historically, the first panel method ever developed was a source-sheet method. At the time, Douglas Aircraft Company was concerned with calculating the flow around bodies of revolution, and it was only later that the method was extended to lifting surfaces. (See the reference below for a nice historical account.)\n",
    "\n",
    "A *source-panel method* leads to a solution with no circulation, therefore no lift. The objective of this lesson is to start with the source panel method we implemented in the previous lesson and add some *circulation* so that we may have a lift force. We introduce an important concept: the **Kutta-condition** that allows us to determine what the right amount of circulation should be.\n",
    "##### Reference\n",
    "\n",
    "* Smith, A.M.O., The Panel Method: Its Original Development. In _Applied Computational Aerodynamics_, Vol. 125, edited by P.A. Henne, published by AIAA (1990). [Read it on Google Books.](http://books.google.com/books?id=5Ov2tHj0wxoC&lpg=PA3&ots=SnUiqcdEnb&dq=The%20Panel%20Method%3A%20Its%20Original%20Development&pg=PA3#v=onepage&q&f=false)"
   ]
  },
  {
   "cell_type": "markdown",
   "id": "romance-portfolio",
   "metadata": {},
   "source": [
    "## A lifting-body panel method\n",
    "If we were to simply increase the angle of attack in the freestream and calculate the flow with a source sheet only, the rear stagnation point will not be located at the trailing edge. Instead, the flow will bend around the trailing edge and the stagnation point will be somewhere on the top surface of the airfoil. This is not a physically possible solution.\n",
    "\n",
    "### The Kutta condition\n",
    "\n",
    "The *Kutta-condition* states that the pressure below and above the airfoil trailing edge must be equal so that the flow does not bend around it and instead leaves the airfoil tangentially. The rear stagnation point must be exactly at the trailing edge.\n",
    "\n",
    "It's natural to be a little perplexed by this. How can we justify this seemingly arbitrary condition? Remember that potential-flow theory completely ignores fluid viscosity, so if we are leaving out this physical effect, we shouldn't be surprised that the theory needs some adjustment for those situations when viscosity does play a role. A real viscous fluid is not able to turn around a sharp corner like an airfoil trailing edge without separating there. The Kutta condition allows us to correct potential-flow theory so that it gives a solution closer to reality.\n",
    "\n",
    "Remember **lift always requires circulation**. If you experimented with the circulation of the point vortex, you found that the stagnation points moved along the cylinder.\n",
    "\n",
    "Like for the circular cylinder, the amount of circulation we add to an airfoil will move the stagnation points along the surface. And if we add just the right amount, the rear stagnation point can be made to coincide with the trailing edge. This amount of circulation makes the flow a physically relevant solution. And this amount gives the correct lift!\n",
    "\n",
    "To implement the Kutta-condition in our panel method we need to add one more equation to the system, giving the circulation that moves the stagnation point to the trailing edge. By placing a vortex-sheet with the same constant strength at every panel, we can add the circulation to the flow with just one more unknown.\n"
   ]
  },
  {
   "cell_type": "markdown",
   "id": "practical-monthly",
   "metadata": {},
   "source": [
    "### Discretization into panels\n",
    "Let's get the preliminaries out of the way. We need to import our favorite libraries, and the function `integrate` from SciPy."
   ]
  },
  {
   "cell_type": "code",
   "execution_count": 1,
   "id": "overhead-princeton",
   "metadata": {},
   "outputs": [],
   "source": [
    "# import libraries and modules needed\n",
    "import os\n",
    "import numpy\n",
    "from scipy import integrate, linalg\n",
    "from matplotlib import pyplot\n",
    "\n",
    "# integrate plots into the notebook\n",
    "%matplotlib inline"
   ]
  },
  {
   "cell_type": "markdown",
   "id": "early-explanation",
   "metadata": {},
   "source": [
    "We start by importing the NACA0012 geometry from a data file, and we plot the airfoil:"
   ]
  },
  {
   "cell_type": "code",
   "execution_count": 2,
   "id": "global-enlargement",
   "metadata": {},
   "outputs": [],
   "source": [
    "# load geometry from data file\n",
    "naca_filepath ='naca0012.dat'\n",
    "with open(naca_filepath, 'r') as infile:\n",
    "    x, y = numpy.loadtxt(infile, dtype=float, unpack=True)"
   ]
  },
  {
   "cell_type": "code",
   "execution_count": 3,
   "id": "listed-scanner",
   "metadata": {},
   "outputs": [
    {
     "data": {
      "text/plain": [
       "(np.float64(-0.05),\n",
       " np.float64(1.05),\n",
       " np.float64(-0.06601892),\n",
       " np.float64(0.06601892))"
      ]
     },
     "execution_count": 3,
     "metadata": {},
     "output_type": "execute_result"
    }
   ],
   "source": [
    "# plot geometry\n",
    "width = 3\n",
    "pyplot.figure(figsize=(width, width))\n",
    "pyplot.grid()\n",
    "pyplot.xlabel('x', fontsize=16)\n",
    "pyplot.ylabel('y', fontsize=16)\n",
    "pyplot.plot(x, y, color='k', linestyle='-', linewidth=2)\n",
    "pyplot.xlim(-0.1, 1.1)\n",
    "pyplot.ylim(-0.1, 0.1)\n",
    "pyplot.axis('equal')"
   ]
  },
  {
   "cell_type": "markdown",
   "id": "hearing-detector",
   "metadata": {},
   "source": [
    "The contour defining the airfoil will be partitioned into `N` panels.\n",
    "\n",
    "We define a class `Panel`  that will store all information about one panel: start and end points, center point, length, orientation, source strength, tangential velocity and pressure coefficient. We don't save the vortex-sheet strength because all panels will have the same value."
   ]
  },
  {
   "cell_type": "code",
   "execution_count": 4,
   "id": "married-glance",
   "metadata": {},
   "outputs": [],
   "source": [
    "class Panel:\n",
    "    \"\"\"\n",
    "    Contains information related to a panel.\n",
    "    \"\"\"\n",
    "    def __init__(self, xa, ya, xb, yb):\n",
    "        \"\"\"\n",
    "        Initializes the panel.\n",
    "        \n",
    "        Sets the end-points and calculates the center-point, length,\n",
    "        and angle (with the x-axis) of the panel.\n",
    "        Defines if the panel is located on the upper or lower surface of the geometry.\n",
    "        Initializes the circulation, tangential velocity, and pressure coefficient\n",
    "        of the panel to zero.\n",
    "        \n",
    "        Parameters\n",
    "        ---------_\n",
    "        xa: float\n",
    "            x-coordinate of the first end-point.\n",
    "        ya: float\n",
    "            y-coordinate of the first end-point.\n",
    "        xb: float\n",
    "            x-coordinate of the second end-point.\n",
    "        yb: float\n",
    "            y-coordinate of the second end-point.\n",
    "        \"\"\"\n",
    "        self.xa, self.ya = xa, ya  # panel starting-point\n",
    "        self.xb, self.yb = xb, yb  # panel ending-point\n",
    "        \n",
    "        self.xc, self.yc = (xa + xb) / 2, (ya + yb) / 2  # panel center\n",
    "        self.length = numpy.sqrt((xb - xa)**2 + (yb - ya)**2)  # panel length\n",
    "        \n",
    "        # orientation of panel (angle between x-axis and panel's normal)\n",
    "        if xb - xa <= 0.0:\n",
    "            self.beta = numpy.arccos((yb - ya) / self.length)\n",
    "        elif xb - xa > 0.0:\n",
    "            self.beta = numpy.pi + numpy.arccos(-(yb - ya) / self.length)\n",
    "        \n",
    "        # panel location\n",
    "        if self.beta <= numpy.pi:\n",
    "            self.loc = 'upper'  # upper surface\n",
    "        else:\n",
    "            self.loc = 'lower'  # lower surface\n",
    "        \n",
    "        self.gamma = 0.0  # circulation strength\n",
    "        self.vt = 0.0  # tangential velocity\n",
    "        self.cp = 0.0  # pressure coefficient"
   ]
  },
  {
   "cell_type": "markdown",
   "id": "bored-corps",
   "metadata": {},
   "source": [
    "Like before, we call the function `define_panels` to discretize the airfoil geometry in `N` panels. The function will return a NumPy array of `N` objects of the type `Panel`."
   ]
  },
  {
   "cell_type": "code",
   "execution_count": 5,
   "id": "private-illustration",
   "metadata": {},
   "outputs": [],
   "source": [
    "def define_panels(x, y, N=40):\n",
    "    \"\"\"\n",
    "    Discretizes the geometry into panels using 'cosine' method.\n",
    "    \n",
    "    Parameters\n",
    "    ----------\n",
    "    x: 1D array of floats\n",
    "        x-coordinate of the points defining the geometry.\n",
    "    y: 1D array of floats\n",
    "        y-coordinate of the points defining the geometry.\n",
    "    N: integer, optional\n",
    "        Number of panels;\n",
    "        default: 40.\n",
    "    \n",
    "    Returns\n",
    "    -------\n",
    "    panels: 1D Numpy array of Panel objects.\n",
    "        The list of panels.\n",
    "    \"\"\"\n",
    "    \n",
    "    R = (x.max() - x.min()) / 2.0  # circle radius\n",
    "    x_center = (x.max() + x.min()) / 2.0  # x-coordinate of circle center\n",
    "    \n",
    "    theta = numpy.linspace(0.0, 2.0 * numpy.pi, N + 1)  # array of angles\n",
    "    x_circle = x_center + R * numpy.cos(theta)  # x-coordinates of circle\n",
    "    \n",
    "    x_ends = numpy.copy(x_circle)  # x-coordinate of panels end-points\n",
    "    y_ends = numpy.empty_like(x_ends)  # y-coordinate of panels end-points\n",
    "    \n",
    "    # extend coordinates to consider closed surface\n",
    "    x, y = numpy.append(x, x[0]), numpy.append(y, y[0])\n",
    "    \n",
    "    # compute y-coordinate of end-points by projection\n",
    "    I = 0\n",
    "    for i in range(N):\n",
    "        while I < len(x) - 1:\n",
    "            if (x[I] <= x_ends[i] <= x[I + 1]) or (x[I + 1] <= x_ends[i] <= x[I]):\n",
    "                break\n",
    "            else:\n",
    "                I += 1\n",
    "        a = (y[I + 1] - y[I]) / (x[I + 1] - x[I])\n",
    "        b = y[I + 1] - a * x[I + 1]\n",
    "        y_ends[i] = a * x_ends[i] + b\n",
    "    y_ends[N] = y_ends[0]\n",
    "    \n",
    "    # create panels\n",
    "    panels = numpy.empty(N, dtype=object)\n",
    "    for i in range(N):\n",
    "        panels[i] = Panel(x_ends[i], y_ends[i], x_ends[i + 1], y_ends[i + 1])\n",
    "    \n",
    "    return panels"
   ]
  },
  {
   "cell_type": "markdown",
   "id": "amber-bread",
   "metadata": {},
   "source": [
    "Now we can use our new function to define the geometry for the airfoil panels, and then plot the panel nodes on the geometry."
   ]
  },
  {
   "cell_type": "code",
   "execution_count": 6,
   "id": "french-composition",
   "metadata": {},
   "outputs": [],
   "source": [
    "# discretize geoemetry into panels\n",
    "panels = define_panels(x, y, N=40)"
   ]
  },
  {
   "cell_type": "code",
   "execution_count": 7,
   "id": "offensive-hammer",
   "metadata": {},
   "outputs": [],
   "source": [
    "# plot discretized geometry\n",
    "width = 10\n",
    "pyplot.figure(figsize=(width, width))\n",
    "pyplot.grid()\n",
    "pyplot.xlabel('x', fontsize=16)\n",
    "pyplot.ylabel('y', fontsize=16)\n",
    "pyplot.plot(x, y, color='k', linestyle='-', linewidth=2)\n",
    "pyplot.plot(numpy.append([panel.xa for panel in panels], panels[0].xa),\n",
    "            numpy.append([panel.ya for panel in panels], panels[0].ya),\n",
    "            linestyle='-', linewidth=1, marker='o', markersize=6, color='#CD2305')\n",
    "pyplot.axis('scaled')\n",
    "pyplot.xlim(-0.1, 1.1)\n",
    "pyplot.ylim(-0.1, 0.1);"
   ]
  },
  {
   "cell_type": "markdown",
   "id": "white-debate",
   "metadata": {},
   "source": [
    "### Free stream conditions\n",
    "\n",
    "The airfoil is immersed in a free-stream $(U_\\infty$,$\\alpha)$ where $U_\\infty$ and $\\alpha$ are the velocity magnitude and angle of attack, respectively. Like before, we create a class for the free stream, even though we will only have one object that uses this class. It makes it easier to pass the free stream to other functions later on."
   ]
  },
  {
   "cell_type": "code",
   "execution_count": 8,
   "id": "answering-wilson",
   "metadata": {},
   "outputs": [],
   "source": [
    "class Freestream:\n",
    "    \"\"\"\n",
    "    Freestream conditions.\n",
    "    \"\"\"\n",
    "    def __init__(self, u_inf=1.0, alpha=0.0):\n",
    "        \"\"\"\n",
    "        Sets the freestream speed and angle (in degrees).\n",
    "        \n",
    "        Parameters\n",
    "        ----------\n",
    "        u_inf: float, optional\n",
    "            Freestream speed;\n",
    "            default: 1.0.\n",
    "        alpha: float, optional\n",
    "            Angle of attack in degrees;\n",
    "            default 0.0.\n",
    "        \"\"\"\n",
    "        self.u_inf = u_inf\n",
    "        self.alpha = numpy.radians(alpha)  # degrees to radians"
   ]
  },
  {
   "cell_type": "code",
   "execution_count": 9,
   "id": "alternative-alexandria",
   "metadata": {},
   "outputs": [],
   "source": [
    "# define freestream conditions\n",
    "freestream = Freestream(u_inf=1.0, alpha=4.0)"
   ]
  },
  {
   "cell_type": "markdown",
   "id": "legal-citizenship",
   "metadata": {},
   "source": [
    "### Flow tangency boundary condition\n",
    "\n",
    "A constant vortex strength $\\gamma$ will be added to each panel (all panels have the same, constant vortex-sheet strength). Thus, using the principle of superposition, the velocity potential becomes:\n",
    "\n",
    "$$\n",
    "\\begin{align*}\n",
    "\\phi\\left(x_{c_i},y_{c_i}\\right) &= V_\\infty x_{c_i} \\cos \\alpha + V_\\infty y_{c_i} \\sin \\alpha \\\\\n",
    "&+ \\sum_{j=1}^N \\frac{\\sigma_j}{2\\pi} \\int_j \\ln \\left(\\sqrt{(x_{c_i}-x_j(s_j))^2+(y_{c_i}-y_j(s_j))^2} \\right) {\\rm d}s_j \\\\\n",
    "&- \\sum_{j=1}^N \\frac{\\gamma}{2\\pi} \\int_j \\tan^{-1} \\left(\\frac{y_{c_i}-y_j(s_j)}{x_{c_i}-x_j(s_j)}\\right) {\\rm d}s_j\n",
    "\\end{align*}\n",
    "$$\n",
    "\n",
    "The flow tangency boundary condition is applied at every panel center:\n",
    "\n",
    "$$0 = \\vec{V}\\cdot\\vec{n}_i = \\frac{\\partial}{\\partial n_i} \\left\\{ \\phi\\left(x_{c_i},y_{c_i}\\right) \\right\\}$$\n",
    "\n",
    "i.e.\n",
    "\n",
    "$$\n",
    "\\begin{align*}\n",
    "0 &= V_\\infty \\cos \\left(\\alpha-\\beta_i\\right) + \\frac{\\sigma_i}{2} \\\\\n",
    "&+ \\sum_{j=1,j\\neq i}^N \\frac{\\sigma_j}{2\\pi} \\int_j \\frac{\\partial}{\\partial n_i} \\ln \\left(\\sqrt{(x_{c_i}-x_j(s_j))^2+(y_{c_i}-y_j(s_j))^2} \\right) {\\rm d}s_j \\\\\n",
    "&- \\sum_{j=1,j\\neq i}^N \\frac{\\gamma}{2\\pi} \\int_j \\frac{\\partial}{\\partial n_i} \\tan^{-1} \\left(\\frac{y_{c_i}-y_j(s_j)}{x_{c_i}-x_j(s_j)}\\right) {\\rm d}s_j\n",
    "\\end{align*}\n",
    "$$\n",
    "\n",
    "We already worked the first integral in the previous lesson:\n",
    "\n",
    "$$\\frac{\\partial}{\\partial n_i} \\ln \\left(\\sqrt{(x_{c_i}-x_j(s_j))^2+(y_{c_i}-y_j(s_j))^2} \\right) = \\frac{\\left(x_{c_i}-x_j\\right)\\frac{\\partial x_{c_i}}{\\partial n_i} + \\left(y_{c_i}-y_j\\right)\\frac{\\partial y_{c_i}}{\\partial n_i}}{\\left(x_{c_i}-x_j\\right)^2 + \\left(y_{c_i}-y_j\\right)^2}$$\n",
    "\n",
    "where $\\frac{\\partial x_{c_i}}{\\partial n_i} = \\cos \\beta_i$ and $\\frac{\\partial y_{c_i}}{\\partial n_i} = \\sin \\beta_i$, and\n",
    "\n",
    "$$x_j(s_j) = x_{b_j} - s_j \\sin \\beta_j$$\n",
    "\n",
    "$$y_j(s_j) = y_{b_j} + s_j \\cos \\beta_j$$\n",
    "\n",
    "We now need to derive the last integral of the boundary equation:\n",
    "\n",
    "$$\\frac{\\partial}{\\partial n_i} \\tan^{-1} \\left(\\frac{y_{c_i}-y_j(s_j)}{x_{c_i}-x_j(s_j)}\\right)= \\frac{\\left(x_{c_i}-x_j\\right)\\frac{\\partial y_{c_i}}{\\partial n_i} - \\left(y_{c_i}-y_j\\right)\\frac{\\partial x_{c_i}}{\\partial n_i}}{\\left(x_{c_i}-x_j\\right)^2 + \\left(y_{c_i}-y_j\\right)^2}$$\n",
    "\n",
    "where $\\frac{\\partial x_{c_i}}{\\partial n_i} = \\cos \\beta_i$ and $\\frac{\\partial y_{c_i}}{\\partial n_i} = \\sin \\beta_i$.\n"
   ]
  },
  {
   "cell_type": "markdown",
   "id": "4d9ba7af-9262-4beb-8437-96fdc5f8c05b",
   "metadata": {},
   "source": [
    "## Building the linear system\n",
    "Here, we build and solve the linear system of equations of the form\n",
    "\n",
    "$$\n",
    "\\begin{equation}\n",
    "[A][\\sigma] = [b]\n",
    "\\end{equation}\n",
    "$$\n",
    "\n",
    "In building the matrix, below, we call the `integral()` function with the correct values for the last parameters: $\\cos \\beta_i$ and $\\sin\\beta_i$, corresponding to a derivative in the normal direction.\n",
    "\n",
    "Finally, we use `linalg.solve()` from NumPy to solve the system and find the strength of each panel."
   ]
  },
  {
   "cell_type": "code",
   "execution_count": 10,
   "id": "c6014511-94e0-4e8b-ba63-a9446a35b02e",
   "metadata": {},
   "outputs": [],
   "source": [
    "def build_matrix(panels):\n",
    "    \"\"\"\n",
    "    Builds the source matrix.\n",
    "    \n",
    "    Parameters\n",
    "    ----------\n",
    "    panels: 1D array of Panel object\n",
    "        The source panels.\n",
    "    \n",
    "    Returns\n",
    "    -------\n",
    "    A: 2D Numpy array of floats\n",
    "        The source matrix (NxN matrix; N is the number of panels).\n",
    "    \"\"\"\n",
    "    N = len(panels)\n",
    "    A = np.empty((N, N), dtype=float)\n",
    "    np.fill_diagonal(A, 0.5)\n",
    "    \n",
    "    for i, p_i in enumerate(panels):\n",
    "        for j, p_j in enumerate(panels):\n",
    "            if i != j:\n",
    "                A[i, j] = 0.5 / np.pi * integral(p_i.xc, p_i.yc, p_j,\n",
    "                                                   np.cos(p_i.beta),\n",
    "                                                   np.sin(p_i.beta))\n",
    "    \n",
    "    return A\n",
    "\n",
    "def build_rhs(panels, freestream):\n",
    "    \"\"\"\n",
    "    Builds the RHS of the linear system.\n",
    "    \n",
    "    Parameters\n",
    "    ----------\n",
    "    panels: 1D array of Panel objects\n",
    "        The source panels.\n",
    "    freestream: Freestream object\n",
    "        The freestream conditions.\n",
    "    \n",
    "    Returns\n",
    "    -------\n",
    "    b: 1D Numpy array of floats\n",
    "        RHS of the linear system.\n",
    "    \"\"\"\n",
    "    b = np.empty(len(panels), dtype=float)\n",
    "    \n",
    "    for i, panel in enumerate(panels):\n",
    "        b[i] = -freestream.u_inf * np.cos(freestream.alpha - panel.beta)\n",
    "    \n",
    "    return b"
   ]
  },
  {
   "cell_type": "code",
   "execution_count": null,
   "id": "8bec7750-30ed-42ab-844b-f01a59c35826",
   "metadata": {},
   "outputs": [],
   "source": []
  },
  {
   "cell_type": "code",
   "execution_count": null,
   "id": "177654ed-affd-4f2b-bae3-fc7f5c842355",
   "metadata": {},
   "outputs": [],
   "source": []
  },
  {
   "cell_type": "code",
   "execution_count": null,
   "id": "387eb71c-f6af-4aad-be55-f3cf4dc5e6d2",
   "metadata": {},
   "outputs": [],
   "source": []
  }
 ],
 "metadata": {
  "kernelspec": {
   "display_name": "Python [conda env:base] *",
   "language": "python",
   "name": "conda-base-py"
  },
  "language_info": {
   "codemirror_mode": {
    "name": "ipython",
    "version": 3
   },
   "file_extension": ".py",
   "mimetype": "text/x-python",
   "name": "python",
   "nbconvert_exporter": "python",
   "pygments_lexer": "ipython3",
   "version": "3.13.5"
  }
 },
 "nbformat": 4,
 "nbformat_minor": 5
}
